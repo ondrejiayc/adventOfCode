{
 "cells": [
  {
   "cell_type": "code",
   "execution_count": 1,
   "metadata": {
    "collapsed": true
   },
   "outputs": [],
   "source": [
    "import hashlib"
   ]
  },
  {
   "cell_type": "code",
   "execution_count": 7,
   "metadata": {
    "collapsed": false
   },
   "outputs": [
    {
     "name": "stdout",
     "output_type": "stream",
     "text": [
      "My integer is 282749.\n"
     ]
    }
   ],
   "source": [
    "myKey = 'yzbqklnj'\n",
    "\n",
    "i = 1\n",
    "\n",
    "while True:\n",
    "    if hashlib.md5(myKey+str(i)).hexdigest()[:5] == '00000': break\n",
    "    i += 1\n",
    "\n",
    "print 'My integer for five leading zeros is '+str(i)+'.'"
   ]
  },
  {
   "cell_type": "code",
   "execution_count": 8,
   "metadata": {
    "collapsed": false
   },
   "outputs": [
    {
     "name": "stdout",
     "output_type": "stream",
     "text": [
      "My integer for six leading zeros is 9962624.\n"
     ]
    }
   ],
   "source": [
    "while True:\n",
    "    if hashlib.md5(myKey+str(i)).hexdigest()[:6] == '000000': break\n",
    "    i += 1\n",
    "\n",
    "print 'My integer for six leading zeros is '+str(i)+'.'"
   ]
  },
  {
   "cell_type": "code",
   "execution_count": null,
   "metadata": {
    "collapsed": true
   },
   "outputs": [],
   "source": []
  }
 ],
 "metadata": {
  "kernelspec": {
   "display_name": "Python 2",
   "language": "python",
   "name": "python2"
  },
  "language_info": {
   "codemirror_mode": {
    "name": "ipython",
    "version": 2
   },
   "file_extension": ".py",
   "mimetype": "text/x-python",
   "name": "python",
   "nbconvert_exporter": "python",
   "pygments_lexer": "ipython2",
   "version": "2.7.10"
  }
 },
 "nbformat": 4,
 "nbformat_minor": 0
}
