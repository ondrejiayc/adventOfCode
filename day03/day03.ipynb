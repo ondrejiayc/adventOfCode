{
 "cells": [
  {
   "cell_type": "code",
   "execution_count": null,
   "metadata": {
    "collapsed": true
   },
   "outputs": [],
   "source": [
    "#directions are the same for problem 1 and 2\n",
    "with open('roadmap.txt','r') as f:\n",
    "    directions = f.read()"
   ]
  },
  {
   "cell_type": "code",
   "execution_count": null,
   "metadata": {
    "collapsed": false
   },
   "outputs": [],
   "source": [
    "# Problem 1 - Santa delivers on his own\n",
    "\n",
    "travels = [0.+0.j]\n",
    "    \n",
    "for i in directions:\n",
    "    travels.append(travels[-1] + 1.j*(i == '^') - 1.j*(i == 'v') + 1.*(i == '>') - 1.*(i == '<'))\n",
    "\n",
    "print \"Santa visits a total of \"+str(len(set(travels)))+' houses.'"
   ]
  },
  {
   "cell_type": "code",
   "execution_count": null,
   "metadata": {
    "collapsed": false
   },
   "outputs": [],
   "source": [
    "# Problem 2 - including Robo-Santa\n",
    "\n",
    "santa,robot = [0.+0.j],[0.+0.j]\n",
    "\n",
    "switch = 1\n",
    "\n",
    "for i in directions:\n",
    "    if switch:\n",
    "        santa.append(santa[-1] + 1.j*(i == '^') - 1.j*(i == 'v') + 1.*(i == '>') - 1.*(i == '<'))\n",
    "    else:\n",
    "        robot.append(robot[-1] + 1.j*(i == '^') - 1.j*(i == 'v') + 1.*(i == '>') - 1.*(i == '<'))\n",
    "    switch = 1 - switch\n",
    "\n",
    "print \"Santa and his robot visit a total of \"+str(len(set(santa+robot)))+' houses.'"
   ]
  },
  {
   "cell_type": "code",
   "execution_count": null,
   "metadata": {
    "collapsed": true
   },
   "outputs": [],
   "source": []
  }
 ],
 "metadata": {
  "kernelspec": {
   "display_name": "Python 2",
   "language": "python",
   "name": "python2"
  },
  "language_info": {
   "codemirror_mode": {
    "name": "ipython",
    "version": 2
   },
   "file_extension": ".py",
   "mimetype": "text/x-python",
   "name": "python",
   "nbconvert_exporter": "python",
   "pygments_lexer": "ipython2",
   "version": "2.7.10"
  }
 },
 "nbformat": 4,
 "nbformat_minor": 0
}
