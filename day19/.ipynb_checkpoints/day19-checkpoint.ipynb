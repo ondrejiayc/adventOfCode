{
 "cells": [
  {
   "cell_type": "code",
   "execution_count": null,
   "metadata": {
    "collapsed": true
   },
   "outputs": [],
   "source": [
    "import re"
   ]
  },
  {
   "cell_type": "code",
   "execution_count": null,
   "metadata": {
    "collapsed": false
   },
   "outputs": [],
   "source": [
    "subst = {}\n",
    "\n",
    "with open ('molecule.txt','r') as f:\n",
    "    for line in f:\n",
    "        if re.search(r'=>',line):\n",
    "            line = line.split('=>')\n",
    "            if line[0].strip() not in subst:\n",
    "                subst[line[0].strip()] = []\n",
    "            subst[line[0].strip()].append(line[1].strip())\n",
    "        else:\n",
    "            if re.search('\\w+',line): molecule = line.strip()"
   ]
  },
  {
   "cell_type": "code",
   "execution_count": null,
   "metadata": {
    "collapsed": false
   },
   "outputs": [],
   "source": [
    "molecule = re.findall('[A-Z][a-z]*',molecule)\n",
    "\n",
    "print molecule \n",
    "calib = set()\n",
    "\n",
    "for i in range(len(molecule)):\n",
    "    if molecule[i] in subst:\n",
    "        for repl in subst[molecule[i]]:\n",
    "            calib.add(''.join(''.join([''.join(molecule[:i]),repl,''.join(molecule[i+1:])])))"
   ]
  },
  {
   "cell_type": "code",
   "execution_count": null,
   "metadata": {
    "collapsed": false
   },
   "outputs": [],
   "source": [
    "print 'We can create %d distinct molecules.' % (len(calib))"
   ]
  },
  {
   "cell_type": "code",
   "execution_count": null,
   "metadata": {
    "collapsed": true
   },
   "outputs": [],
   "source": []
  }
 ],
 "metadata": {
  "kernelspec": {
   "display_name": "Python 2",
   "language": "python",
   "name": "python2"
  },
  "language_info": {
   "codemirror_mode": {
    "name": "ipython",
    "version": 2
   },
   "file_extension": ".py",
   "mimetype": "text/x-python",
   "name": "python",
   "nbconvert_exporter": "python",
   "pygments_lexer": "ipython2",
   "version": "2.7.10"
  }
 },
 "nbformat": 4,
 "nbformat_minor": 0
}
