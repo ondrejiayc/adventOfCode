{
 "cells": [
  {
   "cell_type": "code",
   "execution_count": null,
   "metadata": {
    "collapsed": true
   },
   "outputs": [],
   "source": [
    "import numpy as np\n",
    "import re"
   ]
  },
  {
   "cell_type": "code",
   "execution_count": null,
   "metadata": {
    "collapsed": false
   },
   "outputs": [],
   "source": [
    "grid = np.zeros((1000,1000),dtype=int)\n",
    "\n",
    "with open('lights.txt','r') as f:\n",
    "    for line in f:\n",
    "        #extract the coordinates\n",
    "        coords = np.array([int(i) for i in re.findall(r'[0-9]+',line)])\n",
    "        # turn off\n",
    "        if line[6] == 'f': \n",
    "            grid[coords[0]:coords[2]+1,coords[1]:coords[3]+1] = 0\n",
    "        #turn on\n",
    "        elif line[6] == 'n': \n",
    "            grid[coords[0]:coords[2]+1,coords[1]:coords[3]+1] = 1\n",
    "        #toggle\n",
    "        else:\n",
    "            grid[coords[0]:coords[2]+1,coords[1]:coords[3]+1] = 1 - grid[coords[0]:coords[2]+1,coords[1]:coords[3]+1]\n",
    "        #print np.sum(grid)\n",
    "            \n",
    "print 'There is a total of '+str(np.sum(grid))+' lights on.'"
   ]
  },
  {
   "cell_type": "code",
   "execution_count": null,
   "metadata": {
    "collapsed": false
   },
   "outputs": [],
   "source": [
    "grid = np.zeros((1000,1000),dtype=int)\n",
    "\n",
    "instructions = {' ': 2, 'n': 1, 'f': -1}\n",
    "\n",
    "with open('lights.txt','r') as f:\n",
    "    for line in f:\n",
    "        #extract the coordinates\n",
    "        coords = np.array([int(i) for i in re.findall(r'[0-9]+',line)])\n",
    "        grid[coords[0]:coords[2]+1,coords[1]:coords[3]+1] += instructions[line[6]]\n",
    "        grid[grid<0]=0\n",
    "\n",
    "            \n",
    "print 'The total brightness is '+str(np.sum(grid))+'.'"
   ]
  },
  {
   "cell_type": "code",
   "execution_count": null,
   "metadata": {
    "collapsed": true
   },
   "outputs": [],
   "source": []
  }
 ],
 "metadata": {
  "kernelspec": {
   "display_name": "Python 2",
   "language": "python",
   "name": "python2"
  },
  "language_info": {
   "codemirror_mode": {
    "name": "ipython",
    "version": 2
   },
   "file_extension": ".py",
   "mimetype": "text/x-python",
   "name": "python",
   "nbconvert_exporter": "python",
   "pygments_lexer": "ipython2",
   "version": "2.7.10"
  }
 },
 "nbformat": 4,
 "nbformat_minor": 0
}
