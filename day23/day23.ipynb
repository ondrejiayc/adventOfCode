{
 "cells": [
  {
   "cell_type": "code",
   "execution_count": null,
   "metadata": {
    "collapsed": false
   },
   "outputs": [],
   "source": [
    "with open('turing.txt','r') as f:\n",
    "    program = f.read().splitlines()"
   ]
  },
  {
   "cell_type": "code",
   "execution_count": null,
   "metadata": {
    "collapsed": false
   },
   "outputs": [],
   "source": [
    "# PART 1\n",
    "\n",
    "index = 0\n",
    "\n",
    "a = 0\n",
    "b = 0\n",
    "\n",
    "ctr = 0\n",
    "\n",
    "while True:\n",
    "    ctr += 1\n",
    "    if index >= len(program) or index < 0: break\n",
    "    instr = program[index].split()\n",
    "    if instr[0] == 'hlf': \n",
    "        exec('%s /= 2' % (instr[1]))\n",
    "        index += 1\n",
    "    elif instr[0] == 'tpl':\n",
    "        exec('%s *= 3' % (instr[1]))\n",
    "        index += 1\n",
    "    elif instr[0] == 'inc':\n",
    "        exec('%s += 1' % (instr[1]))\n",
    "        index += 1\n",
    "    elif instr[0] == 'jmp':\n",
    "        index += int(instr[1])\n",
    "    elif instr[0] == 'jie':\n",
    "        instr[1] = instr[1].strip(',')\n",
    "        if eval(instr[1]) % 2 == 0:\n",
    "            index += int(instr[2])\n",
    "        else: \n",
    "            index += 1\n",
    "    elif instr[0] == 'jio':\n",
    "        instr[1] = instr[1].strip(',')\n",
    "        if eval(instr[1]) == 1:\n",
    "            index += int(instr[2])\n",
    "        else: \n",
    "            index += 1        "
   ]
  },
  {
   "cell_type": "code",
   "execution_count": null,
   "metadata": {
    "collapsed": false
   },
   "outputs": [],
   "source": [
    "print 'After running the program, register b holds a value of %d' % (b)"
   ]
  },
  {
   "cell_type": "code",
   "execution_count": null,
   "metadata": {
    "collapsed": true
   },
   "outputs": [],
   "source": [
    "# PART 2\n",
    "\n",
    "index = 0\n",
    "\n",
    "a = 1\n",
    "b = 0\n",
    "\n",
    "ctr = 0\n",
    "\n",
    "while True:\n",
    "    ctr += 1\n",
    "    if index >= len(program) or index < 0: break\n",
    "    instr = program[index].split()\n",
    "    if instr[0] == 'hlf': \n",
    "        exec('%s /= 2' % (instr[1]))\n",
    "        index += 1\n",
    "    elif instr[0] == 'tpl':\n",
    "        exec('%s *= 3' % (instr[1]))\n",
    "        index += 1\n",
    "    elif instr[0] == 'inc':\n",
    "        exec('%s += 1' % (instr[1]))\n",
    "        index += 1\n",
    "    elif instr[0] == 'jmp':\n",
    "        index += int(instr[1])\n",
    "    elif instr[0] == 'jie':\n",
    "        instr[1] = instr[1].strip(',')\n",
    "        if eval(instr[1]) % 2 == 0:\n",
    "            index += int(instr[2])\n",
    "        else: \n",
    "            index += 1\n",
    "    elif instr[0] == 'jio':\n",
    "        instr[1] = instr[1].strip(',')\n",
    "        if eval(instr[1]) == 1:\n",
    "            index += int(instr[2])\n",
    "        else: \n",
    "            index += 1        "
   ]
  },
  {
   "cell_type": "code",
   "execution_count": null,
   "metadata": {
    "collapsed": false
   },
   "outputs": [],
   "source": [
    "print 'After running the program starting with a=1, register b holds a value of %d' % (b)"
   ]
  },
  {
   "cell_type": "code",
   "execution_count": null,
   "metadata": {
    "collapsed": true
   },
   "outputs": [],
   "source": []
  }
 ],
 "metadata": {
  "kernelspec": {
   "display_name": "Python 2",
   "language": "python",
   "name": "python2"
  },
  "language_info": {
   "codemirror_mode": {
    "name": "ipython",
    "version": 2
   },
   "file_extension": ".py",
   "mimetype": "text/x-python",
   "name": "python",
   "nbconvert_exporter": "python",
   "pygments_lexer": "ipython2",
   "version": "2.7.10"
  }
 },
 "nbformat": 4,
 "nbformat_minor": 0
}
