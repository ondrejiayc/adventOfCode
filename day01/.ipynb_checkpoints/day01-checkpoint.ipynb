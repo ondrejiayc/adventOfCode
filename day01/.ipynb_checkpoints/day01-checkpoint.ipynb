{
 "cells": [
  {
   "cell_type": "code",
   "execution_count": 19,
   "metadata": {
    "collapsed": true
   },
   "outputs": [],
   "source": [
    "import re"
   ]
  },
  {
   "cell_type": "code",
   "execution_count": 20,
   "metadata": {
    "collapsed": true
   },
   "outputs": [],
   "source": [
    "with open('pr1_input.txt','r') as f:\n",
    "    a = f.read()"
   ]
  },
  {
   "cell_type": "code",
   "execution_count": 21,
   "metadata": {
    "collapsed": false
   },
   "outputs": [
    {
     "name": "stdout",
     "output_type": "stream",
     "text": [
      "Santa gets to the floor 138.\n"
     ]
    }
   ],
   "source": [
    "up = re.findall(r'\\(',a)\n",
    "down = re.findall(r'\\)',a)\n",
    "\n",
    "print 'Santa gets to the floor '+str(len(up)-len(down))+'.'"
   ]
  },
  {
   "cell_type": "code",
   "execution_count": 22,
   "metadata": {
    "collapsed": false
   },
   "outputs": [
    {
     "name": "stdout",
     "output_type": "stream",
     "text": [
      "Santa first reaches the basement at position 1771.\n"
     ]
    }
   ],
   "source": [
    "floor = 0\n",
    "\n",
    "for i in range(len(a)):\n",
    "    floor += 1*(a[i] == '(') - 1*(a[i] == ')')\n",
    "    if floor == -1:\n",
    "        break\n",
    "\n",
    "print 'Santa first reaches the basement at position '+str(i+1)+'.'"
   ]
  },
  {
   "cell_type": "code",
   "execution_count": null,
   "metadata": {
    "collapsed": true
   },
   "outputs": [],
   "source": []
  }
 ],
 "metadata": {
  "kernelspec": {
   "display_name": "Python 2",
   "language": "python",
   "name": "python2"
  },
  "language_info": {
   "codemirror_mode": {
    "name": "ipython",
    "version": 2
   },
   "file_extension": ".py",
   "mimetype": "text/x-python",
   "name": "python",
   "nbconvert_exporter": "python",
   "pygments_lexer": "ipython2",
   "version": "2.7.10"
  }
 },
 "nbformat": 4,
 "nbformat_minor": 0
}
