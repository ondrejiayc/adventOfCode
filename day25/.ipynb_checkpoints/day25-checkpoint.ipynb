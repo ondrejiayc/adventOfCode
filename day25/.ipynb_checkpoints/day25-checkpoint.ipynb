{
 "cells": [
  {
   "cell_type": "code",
   "execution_count": 32,
   "metadata": {
    "collapsed": true
   },
   "outputs": [],
   "source": [
    "import numpy as np"
   ]
  },
  {
   "cell_type": "code",
   "execution_count": 33,
   "metadata": {
    "collapsed": true
   },
   "outputs": [],
   "source": [
    "row = 2981\n",
    "column = 3075\n",
    "\n",
    "initial = 20151125\n",
    "mult = 252533\n",
    "mod = 33554393"
   ]
  },
  {
   "cell_type": "code",
   "execution_count": 34,
   "metadata": {
    "collapsed": false
   },
   "outputs": [
    {
     "name": "stdout",
     "output_type": "stream",
     "text": [
      "We want a code number 18331560.\n"
     ]
    }
   ],
   "source": [
    "# which code we are looking for\n",
    "\n",
    "codeNo = (row+column-2)*(row+column-1)/2+column\n",
    "print 'We want a code number %d.' % (codeNo)"
   ]
  },
  {
   "cell_type": "code",
   "execution_count": 36,
   "metadata": {
    "collapsed": false
   },
   "outputs": [
    {
     "name": "stdout",
     "output_type": "stream",
     "text": [
      "The code is 9132360.\n"
     ]
    }
   ],
   "source": [
    "# a brute force solution but relatively fast\n",
    "# alternatively, look for periods in code generation and use that, if you find some\n",
    "\n",
    "newCode = initial\n",
    "\n",
    "for i in range(codeNo-1):\n",
    "    newCode = (mult * newCode) % mod\n",
    "    \n",
    "print 'The code is %d.' % newCode"
   ]
  },
  {
   "cell_type": "code",
   "execution_count": null,
   "metadata": {
    "collapsed": true
   },
   "outputs": [],
   "source": []
  }
 ],
 "metadata": {
  "kernelspec": {
   "display_name": "Python 2",
   "language": "python",
   "name": "python2"
  },
  "language_info": {
   "codemirror_mode": {
    "name": "ipython",
    "version": 2
   },
   "file_extension": ".py",
   "mimetype": "text/x-python",
   "name": "python",
   "nbconvert_exporter": "python",
   "pygments_lexer": "ipython2",
   "version": "2.7.10"
  }
 },
 "nbformat": 4,
 "nbformat_minor": 0
}
