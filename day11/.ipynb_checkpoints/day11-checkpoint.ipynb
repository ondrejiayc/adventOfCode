{
 "cells": [
  {
   "cell_type": "code",
   "execution_count": null,
   "metadata": {
    "collapsed": true
   },
   "outputs": [],
   "source": [
    "import re\n",
    "import string"
   ]
  },
  {
   "cell_type": "code",
   "execution_count": null,
   "metadata": {
    "collapsed": false
   },
   "outputs": [],
   "source": [
    "class Password:\n",
    "    '''\n",
    "    The class takes in the 8 digit password of Santa and takes care of incrementing it and checking the rules.\n",
    "    '''\n",
    "        \n",
    "    def __init__(self,password):\n",
    "        self.passOrig = password\n",
    "        self.passStr = password\n",
    "        self.passNum = self.strToNum(self.passStr)        \n",
    "    \n",
    "    def strToNum(self,strPass):\n",
    "        '''\n",
    "        Calculates the numerical value of the string in base 26 (letters in the English alphabet);\n",
    "        a = 0, b = 1,...\n",
    "        Hardocded (7-i) below means that the password is always 8 characters.\n",
    "        '''\n",
    "        return sum([26**(7-i)*(ord(strPass[i])-ord('a')) for i in range(len(strPass))])    \n",
    "    \n",
    "    def numToStr(self,num):\n",
    "        strPass = []\n",
    "        while True:\n",
    "            strPass = [chr((num % 26) + ord('a'))] + strPass\n",
    "            if num/26 == 0: break\n",
    "            num /= 26\n",
    "        return ''.join(['a' for i in range(8-len(strPass))]+strPass)\n",
    "    \n",
    "    def increment(self):\n",
    "        self.passNum += 1\n",
    "        self.passStr = self.numToStr(self.passNum)"
   ]
  },
  {
   "cell_type": "code",
   "execution_count": null,
   "metadata": {
    "collapsed": false
   },
   "outputs": [],
   "source": [
    "sequences = []\n",
    "\n",
    "for i in range(len(string.lowercase[:-2])):\n",
    "    if not re.search(r'[iol]',string.lowercase[i:i+3]): sequences.append(string.lowercase[i:i+3])\n",
    "    \n",
    "sequences = '|'.join(sequences)\n",
    "sequences = re.compile(sequences)"
   ]
  },
  {
   "cell_type": "code",
   "execution_count": null,
   "metadata": {
    "collapsed": false
   },
   "outputs": [],
   "source": [
    "santaPass = Password('hepxcrrq')\n",
    "\n",
    "ctr = 0\n",
    "\n",
    "while not santaPass.passStr == 8*'z':\n",
    "    # create the next password\n",
    "    santaPass.increment()\n",
    "    ctr += 1\n",
    "    if ctr%10000 == 0: print 'Tried %d passwords.' % (ctr)\n",
    "    # check for the forbidden letters i, o and l or make preliminaryli sure that there are repeating characters\n",
    "    if re.search(r'[iol]',santaPass.passStr) or 8-len(set(santaPass.passStr)) < 2: continue\n",
    "    if sequences.search(santaPass.passStr):\n",
    "        if re.search(r'([a-z])\\1',santaPass.passStr): \n",
    "            tmp = re.sub(r'([a-z])\\1','1',santaPass.passStr,count = 1)\n",
    "            if re.search(r'([a-z])\\1',tmp): break"
   ]
  },
  {
   "cell_type": "code",
   "execution_count": null,
   "metadata": {
    "collapsed": false
   },
   "outputs": [],
   "source": [
    "print 'Given Santa\\'s current password %s, the next allowed one is %s.' % (santaPass.passOrig,santaPass.passStr)"
   ]
  },
  {
   "cell_type": "code",
   "execution_count": null,
   "metadata": {
    "collapsed": false
   },
   "outputs": [],
   "source": [
    "santaPass = Password('hepxxyzz')\n",
    "\n",
    "ctr = 0\n",
    "\n",
    "while not santaPass.passStr == 8*'z':\n",
    "    # create the next password\n",
    "    santaPass.increment()\n",
    "    ctr += 1\n",
    "    if ctr%10000 == 0: print 'Tried %d passwords.' % (ctr)\n",
    "    # check for the forbidden letters i, o and l or make preliminaryli sure that there are repeating characters\n",
    "    if re.search(r'[iol]',santaPass.passStr) or 8-len(set(santaPass.passStr)) < 2: continue\n",
    "    if sequences.search(santaPass.passStr):\n",
    "        if re.search(r'([a-z])\\1',santaPass.passStr): \n",
    "            tmp = re.sub(r'([a-z])\\1','1',santaPass.passStr,count = 1)\n",
    "            if re.search(r'([a-z])\\1',tmp): break"
   ]
  },
  {
   "cell_type": "code",
   "execution_count": null,
   "metadata": {
    "collapsed": false
   },
   "outputs": [],
   "source": [
    "print 'Given Santa\\'s recently updated password %s, the next allowed one is %s.' % (santaPass.passOrig,santaPass.passStr)"
   ]
  },
  {
   "cell_type": "code",
   "execution_count": null,
   "metadata": {
    "collapsed": true
   },
   "outputs": [],
   "source": []
  }
 ],
 "metadata": {
  "kernelspec": {
   "display_name": "Python 2",
   "language": "python",
   "name": "python2"
  },
  "language_info": {
   "codemirror_mode": {
    "name": "ipython",
    "version": 2
   },
   "file_extension": ".py",
   "mimetype": "text/x-python",
   "name": "python",
   "nbconvert_exporter": "python",
   "pygments_lexer": "ipython2",
   "version": "2.7.10"
  }
 },
 "nbformat": 4,
 "nbformat_minor": 0
}
