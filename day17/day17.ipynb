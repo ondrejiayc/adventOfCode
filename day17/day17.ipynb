{
 "cells": [
  {
   "cell_type": "code",
   "execution_count": null,
   "metadata": {
    "collapsed": false
   },
   "outputs": [],
   "source": [
    "import numpy as np\n",
    "from itertools import combinations\n",
    "\n",
    "with open('containers.txt','r') as f:\n",
    "    conts = np.loadtxt(f,dtype=int)"
   ]
  },
  {
   "cell_type": "code",
   "execution_count": null,
   "metadata": {
    "collapsed": false
   },
   "outputs": [],
   "source": [
    "#PART ONE\n",
    "\n",
    "c = 0\n",
    "eggnog = 150\n",
    "\n",
    "for length in range(np.sum(np.cumsum(np.sort(conts)[::-1])<150)+1,np.sum(np.cumsum(np.sort(conts))<150)+1):\n",
    "    print 'Trying out %d containers.' % (length)\n",
    "    for per in combinations(conts,length):\n",
    "        c += 1*(np.sum(per)==eggnog)\n",
    "\n",
    "print 'We can store %d liters in %d ways.' % (eggnog,c)\n",
    "        "
   ]
  },
  {
   "cell_type": "code",
   "execution_count": null,
   "metadata": {
    "collapsed": false
   },
   "outputs": [],
   "source": [
    "#PART TWO\n",
    "\n",
    "eggnog = 150\n",
    "\n",
    "for length in range(1,len(conts)):\n",
    "    c = 0\n",
    "    print 'Trying out %d containers.' % (length)\n",
    "    for per in combinations(conts,length):\n",
    "        c += 1*(np.sum(per)==eggnog)\n",
    "    if c>0: break\n",
    "\n",
    "print 'Santa will have to take %d presents in the passenger compartment.' % (length)\n",
    "print 'In this case, we can store %d liters in %d ways.' % (eggnog,c)\n"
   ]
  },
  {
   "cell_type": "code",
   "execution_count": null,
   "metadata": {
    "collapsed": true
   },
   "outputs": [],
   "source": []
  }
 ],
 "metadata": {
  "kernelspec": {
   "display_name": "Python 2",
   "language": "python",
   "name": "python2"
  },
  "language_info": {
   "codemirror_mode": {
    "name": "ipython",
    "version": 2
   },
   "file_extension": ".py",
   "mimetype": "text/x-python",
   "name": "python",
   "nbconvert_exporter": "python",
   "pygments_lexer": "ipython2",
   "version": "2.7.10"
  }
 },
 "nbformat": 4,
 "nbformat_minor": 0
}
