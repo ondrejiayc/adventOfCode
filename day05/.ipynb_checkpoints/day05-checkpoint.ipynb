{
 "cells": [
  {
   "cell_type": "code",
   "execution_count": null,
   "metadata": {
    "collapsed": true
   },
   "outputs": [],
   "source": [
    "import re\n",
    "import numpy as np"
   ]
  },
  {
   "cell_type": "code",
   "execution_count": null,
   "metadata": {
    "collapsed": false
   },
   "outputs": [],
   "source": [
    "nice = 0 \n",
    "\n",
    "badStrings = ['ab','cd','pq','xy']\n",
    "\n",
    "with open('strings.txt','r') as f:\n",
    "    for string in f:\n",
    "        # one of the badStrings makes the string automatically naughty\n",
    "        if np.any(np.array([re.search(i,string) for i in badStrings],dtype=bool)): continue\n",
    "        # look for double letters\n",
    "        if re.search(r'(\\w)\\1',string):\n",
    "            # look for at least three vowels\n",
    "            if len(re.findall(r'[aeiou]',string)) >= 3: nice +=1\n",
    "                \n",
    "print 'There is a total of '+str(nice)+' nice strings.'"
   ]
  },
  {
   "cell_type": "code",
   "execution_count": null,
   "metadata": {
    "collapsed": false
   },
   "outputs": [],
   "source": [
    "nice = 0\n",
    "\n",
    "with open('strings.txt','r') as f:\n",
    "    for string in f:\n",
    "        # string contains a letter that repeats with one letter gap\n",
    "        if re.search(r'(\\w).\\1',string):\n",
    "            if re.search(r'(\\w{2}).*\\1',string): nice += 1\n",
    "        \n",
    "print 'There are '+str(nice)+' nice strings according to the new rules.'"
   ]
  },
  {
   "cell_type": "code",
   "execution_count": null,
   "metadata": {
    "collapsed": true
   },
   "outputs": [],
   "source": []
  }
 ],
 "metadata": {
  "kernelspec": {
   "display_name": "Python 2",
   "language": "python",
   "name": "python2"
  },
  "language_info": {
   "codemirror_mode": {
    "name": "ipython",
    "version": 2
   },
   "file_extension": ".py",
   "mimetype": "text/x-python",
   "name": "python",
   "nbconvert_exporter": "python",
   "pygments_lexer": "ipython2",
   "version": "2.7.10"
  }
 },
 "nbformat": 4,
 "nbformat_minor": 0
}
