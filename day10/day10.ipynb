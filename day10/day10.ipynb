{
 "cells": [
  {
   "cell_type": "code",
   "execution_count": null,
   "metadata": {
    "collapsed": true
   },
   "outputs": [],
   "source": [
    "myString = '3113322113'"
   ]
  },
  {
   "cell_type": "code",
   "execution_count": null,
   "metadata": {
    "collapsed": false
   },
   "outputs": [],
   "source": [
    "# works but does not seem elegant, think about this some more\n",
    "\n",
    "def lookAndSay(sequence):\n",
    "    output = ''\n",
    "    curPos = 0\n",
    "    i = 0\n",
    "    seqLen = len(sequence)\n",
    "    endOfWord = False\n",
    "    while True: \n",
    "        digit = sequence[curPos]\n",
    "        while (sequence[curPos+i] == digit):\n",
    "            i += 1\n",
    "            if (i+curPos) >= seqLen: \n",
    "                endOfWord = True\n",
    "                break\n",
    "        output = output + str(i) + digit\n",
    "        curPos += i\n",
    "        i = 0\n",
    "        if endOfWord: break\n",
    "    return output"
   ]
  },
  {
   "cell_type": "code",
   "execution_count": null,
   "metadata": {
    "collapsed": false
   },
   "outputs": [],
   "source": [
    "for i in range(40):\n",
    "    myString = lookAndSay(myString)"
   ]
  },
  {
   "cell_type": "code",
   "execution_count": null,
   "metadata": {
    "collapsed": false
   },
   "outputs": [],
   "source": [
    "print \"The length of the string after 40 rounds of the game is %s.\" % (len(myString))"
   ]
  },
  {
   "cell_type": "code",
   "execution_count": null,
   "metadata": {
    "collapsed": true
   },
   "outputs": [],
   "source": [
    "import time"
   ]
  },
  {
   "cell_type": "code",
   "execution_count": null,
   "metadata": {
    "collapsed": false
   },
   "outputs": [],
   "source": [
    "myString = '3113322113'\n",
    "\n",
    "start = time.time()\n",
    "for i in range(50):\n",
    "    print \"Round %d finished in %0.2f seconds.\" % (i,time.time()-start)\n",
    "    myString = lookAndSay(myString)\n",
    "    \n",
    "print \"The length of the string after 50 rounds of the game is %s.\" % (len(myString))"
   ]
  },
  {
   "cell_type": "code",
   "execution_count": null,
   "metadata": {
    "collapsed": true
   },
   "outputs": [],
   "source": []
  }
 ],
 "metadata": {
  "kernelspec": {
   "display_name": "Python 2",
   "language": "python",
   "name": "python2"
  },
  "language_info": {
   "codemirror_mode": {
    "name": "ipython",
    "version": 2
   },
   "file_extension": ".py",
   "mimetype": "text/x-python",
   "name": "python",
   "nbconvert_exporter": "python",
   "pygments_lexer": "ipython2",
   "version": "2.7.10"
  }
 },
 "nbformat": 4,
 "nbformat_minor": 0
}
