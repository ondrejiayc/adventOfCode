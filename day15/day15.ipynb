{
 "cells": [
  {
   "cell_type": "code",
   "execution_count": null,
   "metadata": {
    "collapsed": true
   },
   "outputs": [],
   "source": [
    "import numpy as np"
   ]
  },
  {
   "cell_type": "code",
   "execution_count": null,
   "metadata": {
    "collapsed": false
   },
   "outputs": [],
   "source": [
    "ingredients = {}\n",
    "\n",
    "with open('dough.txt','r') as f:\n",
    "    for line in f:\n",
    "        line = line.strip().split()\n",
    "        ingredients[line[0].strip(':')] = {}\n",
    "        for i in range(1,10,2):\n",
    "            ingredients[line[0].strip(':')][line[i].strip(',')] = int(line[i+1].strip(','))\n",
    "            \n",
    "print ingredients"
   ]
  },
  {
   "cell_type": "code",
   "execution_count": null,
   "metadata": {
    "collapsed": false
   },
   "outputs": [],
   "source": [
    "maxRec = 0\n",
    "\n",
    "# Think of a way to do this without looping through all the possibilities. Is there one?\n",
    "\n",
    "for spr in range(1,98):\n",
    "    for pb in range(1,99-spr):\n",
    "        for fro in range(1,100-(spr+pb)):\n",
    "            sug = 100-(spr+pb+fro)\n",
    "            \n",
    "            recipe = {'calories': 0, 'flavor': 0, 'capacity': 0, 'texture': 0, 'durability': 0}\n",
    "            \n",
    "            # The below is quite nonelegant.\n",
    "            # Internet seems to hate the idea of a function that prints a name of the variable\n",
    "            # (i.e. I'd loop for Sprinkles in range(...) and then work with ingredients['Sprinkles'])\n",
    "            # Find a better way!\n",
    "            \n",
    "            for i in ingredients['Sprinkles']:\n",
    "                recipe[i] += spr*ingredients['Sprinkles'][i]\n",
    "            for i in ingredients['PeanutButter']:\n",
    "                recipe[i] += pb*ingredients['PeanutButter'][i]\n",
    "            for i in ingredients['Frosting']:\n",
    "                recipe[i] += fro*ingredients['Frosting'][i]\n",
    "            for i in ingredients['Sugar']:\n",
    "                recipe[i] += sug*ingredients['Sugar'][i]\n",
    "            \n",
    "            del recipe['calories']\n",
    "                      \n",
    "            scores = np.array(recipe.values())\n",
    "            scores[scores<0] = 0\n",
    "                \n",
    "            if np.prod(scores) > maxRec:\n",
    "                bestRec = [spr,pb,fro,sug]\n",
    "                maxRec = np.prod(scores)\n",
    "\n",
    "print 'The score for the best recipe is %d.' % (maxRec)"
   ]
  },
  {
   "cell_type": "code",
   "execution_count": null,
   "metadata": {
    "collapsed": false
   },
   "outputs": [],
   "source": [
    "# This is quite fast (<1000000 fast iterations of the main tripple loop)\n",
    "# so it's the same as above, only a check is added for a 500 calorie cookie.\n",
    "\n",
    "maxRec = 0\n",
    "\n",
    "for spr in range(1,98):\n",
    "    for pb in range(1,99-spr):\n",
    "        for fro in range(1,100-(spr+pb)):\n",
    "            sug = 100-(spr+pb+fro)\n",
    "            \n",
    "            recipe = {'calories': 0, 'flavor': 0, 'capacity': 0, 'texture': 0, 'durability': 0}\n",
    "            \n",
    "            for i in ingredients['Sprinkles']:\n",
    "                recipe[i] += spr*ingredients['Sprinkles'][i]\n",
    "            for i in ingredients['PeanutButter']:\n",
    "                recipe[i] += pb*ingredients['PeanutButter'][i]\n",
    "            for i in ingredients['Frosting']:\n",
    "                recipe[i] += fro*ingredients['Frosting'][i]\n",
    "            for i in ingredients['Sugar']:\n",
    "                recipe[i] += sug*ingredients['Sugar'][i]\n",
    "            \n",
    "            if recipe['calories'] == 500:\n",
    "                del recipe['calories']\n",
    "                      \n",
    "                scores = np.array(recipe.values())\n",
    "                scores[scores<0] = 0\n",
    "                \n",
    "                if np.prod(scores) > maxRec:\n",
    "                    bestRec = [spr,pb,fro,sug]\n",
    "                    maxRec = np.prod(scores)\n",
    "\n",
    "print 'The score for the best recipe with 500 calories is %d.' % (maxRec)"
   ]
  },
  {
   "cell_type": "code",
   "execution_count": null,
   "metadata": {
    "collapsed": true
   },
   "outputs": [],
   "source": []
  }
 ],
 "metadata": {
  "kernelspec": {
   "display_name": "Python 2",
   "language": "python",
   "name": "python2"
  },
  "language_info": {
   "codemirror_mode": {
    "name": "ipython",
    "version": 2
   },
   "file_extension": ".py",
   "mimetype": "text/x-python",
   "name": "python",
   "nbconvert_exporter": "python",
   "pygments_lexer": "ipython2",
   "version": "2.7.10"
  }
 },
 "nbformat": 4,
 "nbformat_minor": 0
}
