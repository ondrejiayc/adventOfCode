{
 "cells": [
  {
   "cell_type": "code",
   "execution_count": null,
   "metadata": {
    "collapsed": false
   },
   "outputs": [],
   "source": [
    "import numpy as np"
   ]
  },
  {
   "cell_type": "code",
   "execution_count": null,
   "metadata": {
    "collapsed": false
   },
   "outputs": [],
   "source": [
    "a = np.loadtxt('initial.txt',dtype=str,comments='',converters={0: lambda s: list(s)})\n",
    "\n",
    "grid = np.zeros(a.shape)\n",
    "grid[np.where(a=='#')]=1\n",
    "\n",
    "grid = np.hstack((np.zeros((102,1)),np.vstack((np.zeros(100),grid,np.zeros(100))),np.zeros((102,1))))\n"
   ]
  },
  {
   "cell_type": "code",
   "execution_count": null,
   "metadata": {
    "collapsed": false
   },
   "outputs": [],
   "source": [
    "totalGrid = np.zeros(grid.shape)\n",
    "\n",
    "totalGrid[:,:] = grid[:,:]"
   ]
  },
  {
   "cell_type": "code",
   "execution_count": null,
   "metadata": {
    "collapsed": false
   },
   "outputs": [],
   "source": [
    "#PART ONE\n",
    "\n",
    "nSteps = 100\n",
    "\n",
    "for i in range(nSteps):\n",
    "    hlpGrid = totalGrid[:-2,1:-1]+totalGrid[2:,1:-1]+totalGrid[1:-1,:-2]+totalGrid[1:-1,2:]+\\\n",
    "              totalGrid[:-2,:-2]+totalGrid[2:,2:]+totalGrid[:-2,2:]+totalGrid[2:,:-2]\n",
    "    totalGrid[1:-1,1:-1] = (totalGrid[1:-1,1:-1]==1)*np.logical_or(hlpGrid==2,hlpGrid==3) +\\\n",
    "                                  (totalGrid[1:-1,1:-1]==0)*(hlpGrid==3)\n",
    "\n",
    "print 'After %d steps there are %d lights on.' % (nSteps,np.sum(totalGrid[:,:]))\n"
   ]
  },
  {
   "cell_type": "code",
   "execution_count": null,
   "metadata": {
    "collapsed": false
   },
   "outputs": [],
   "source": [
    "totalGrid = np.zeros(grid.shape)\n",
    "\n",
    "totalGrid[:,:] = grid[:,:]\n",
    "totalGrid[[1,1,-2,-2],[1,-2,1,-2]] = 1"
   ]
  },
  {
   "cell_type": "code",
   "execution_count": null,
   "metadata": {
    "collapsed": false
   },
   "outputs": [],
   "source": [
    "#PART TWO\n",
    "\n",
    "nSteps = 100\n",
    "\n",
    "for i in range(nSteps):\n",
    "    hlpGrid = totalGrid[:-2,1:-1]+totalGrid[2:,1:-1]+totalGrid[1:-1,:-2]+totalGrid[1:-1,2:]+\\\n",
    "              totalGrid[:-2,:-2]+totalGrid[2:,2:]+totalGrid[:-2,2:]+totalGrid[2:,:-2]\n",
    "    totalGrid[1:-1,1:-1] = (totalGrid[1:-1,1:-1]==1)*np.logical_or(hlpGrid==2,hlpGrid==3) +\\\n",
    "                                  (totalGrid[1:-1,1:-1]==0)*(hlpGrid==3)\n",
    "    totalGrid[[1,1,-2,-2],[1,-2,1,-2]] = 1\n",
    "\n",
    "\n",
    "print 'After %d steps, with the corner lights always on, there are %d lights on.' % (nSteps,np.sum(totalGrid[:,:]))\n"
   ]
  },
  {
   "cell_type": "code",
   "execution_count": null,
   "metadata": {
    "collapsed": true
   },
   "outputs": [],
   "source": []
  }
 ],
 "metadata": {
  "kernelspec": {
   "display_name": "Python 2",
   "language": "python",
   "name": "python2"
  },
  "language_info": {
   "codemirror_mode": {
    "name": "ipython",
    "version": 2
   },
   "file_extension": ".py",
   "mimetype": "text/x-python",
   "name": "python",
   "nbconvert_exporter": "python",
   "pygments_lexer": "ipython2",
   "version": "2.7.10"
  }
 },
 "nbformat": 4,
 "nbformat_minor": 0
}
