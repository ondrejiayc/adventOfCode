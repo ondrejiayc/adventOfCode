{
 "cells": [
  {
   "cell_type": "code",
   "execution_count": null,
   "metadata": {
    "collapsed": true
   },
   "outputs": [],
   "source": [
    "import numpy as np\n",
    "from itertools import *"
   ]
  },
  {
   "cell_type": "code",
   "execution_count": null,
   "metadata": {
    "collapsed": false
   },
   "outputs": [],
   "source": [
    "# Loading of the data (well, also the rest of the code) is heavily inspired by the day09 code.\n",
    "\n",
    "guests = {}\n",
    "\n",
    "with open('happiness.txt','r') as f:\n",
    "    happy = f.readlines()\n",
    "    \n",
    "i = 0\n",
    "\n",
    "for line in happy:\n",
    "    if line.split()[0] not in guests: \n",
    "        guests[line.split()[0]] = i\n",
    "        i += 1\n",
    "    if line.split()[-1].strip('.') not in guests: \n",
    "        guests[line.split()[-1].strip('.')] = i\n",
    "        i += 1\n",
    "\n",
    "happiness = np.zeros((len(guests),len(guests)),dtype = int)\n",
    "\n",
    "for line in happy:\n",
    "    spl = line.split()\n",
    "    happiness[guests[spl[0]],guests[spl[-1].strip('.')]] = int(spl[3]) if spl[2] == 'gain' else -int(spl[3])\n",
    "\n",
    "print guests"
   ]
  },
  {
   "cell_type": "code",
   "execution_count": null,
   "metadata": {
    "collapsed": false
   },
   "outputs": [],
   "source": [
    "# A nonelegant solution to maximum happiness\n",
    "\n",
    "maxHappy = 0.\n",
    "\n",
    "for seating in permutations(range(len(guests)-1)):\n",
    "    seating = list(seating)\n",
    "    seating.append(7)\n",
    "    curHappy = 0\n",
    "    for i in range(len(seating)-1):\n",
    "        curHappy += happiness[seating[i],seating[i+1]]\n",
    "    curHappy += happiness[seating[7],seating[0]]\n",
    "    for i in range(len(seating)-1,0,-1):\n",
    "        curHappy += happiness[seating[i],seating[i-1]]\n",
    "    curHappy += happiness[seating[0],seating[7]]\n",
    "    if curHappy > maxHappy: \n",
    "        maxHappy = curHappy\n",
    "        happyMap = seating\n",
    "\n",
    "print \"The optimal seating has hapiness of %s.\" % (maxHappy)\n",
    "print happyMap"
   ]
  },
  {
   "cell_type": "code",
   "execution_count": null,
   "metadata": {
    "collapsed": false
   },
   "outputs": [],
   "source": [
    "maxHappyOrig = maxHappy\n",
    "\n",
    "maxHappy = 0.\n",
    "\n",
    "newHappiness = np.column_stack((np.vstack((happiness,np.zeros(8,dtype = int))),np.zeros(9,dtype = int)))\n",
    "\n",
    "for seating in permutations(range(len(guests))):\n",
    "    seating = list(seating)\n",
    "    seating.append(8)\n",
    "    curHappy = 0\n",
    "    for i in range(len(seating)-1):\n",
    "        curHappy += newHappiness[seating[i],seating[i+1]]\n",
    "    curHappy += newHappiness[seating[8],seating[0]]\n",
    "    for i in range(len(seating)-1,0,-1):\n",
    "        curHappy += newHappiness[seating[i],seating[i-1]]\n",
    "    curHappy += newHappiness[seating[0],seating[8]]\n",
    "    if curHappy > maxHappy: \n",
    "        maxHappy = curHappy\n",
    "        happyMap = seating\n",
    "\n",
    "print \"The optimal seating (me including) has hapiness of %s.\" % (maxHappy)\n",
    "print happyMap"
   ]
  },
  {
   "cell_type": "code",
   "execution_count": null,
   "metadata": {
    "collapsed": true
   },
   "outputs": [],
   "source": []
  }
 ],
 "metadata": {
  "kernelspec": {
   "display_name": "Python 2",
   "language": "python",
   "name": "python2"
  },
  "language_info": {
   "codemirror_mode": {
    "name": "ipython",
    "version": 2
   },
   "file_extension": ".py",
   "mimetype": "text/x-python",
   "name": "python",
   "nbconvert_exporter": "python",
   "pygments_lexer": "ipython2",
   "version": "2.7.10"
  }
 },
 "nbformat": 4,
 "nbformat_minor": 0
}
