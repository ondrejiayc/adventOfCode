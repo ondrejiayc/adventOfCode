{
 "cells": [
  {
   "cell_type": "code",
   "execution_count": 20,
   "metadata": {
    "collapsed": false
   },
   "outputs": [],
   "source": [
    "import numpy as np\n",
    "from itertools import combinations"
   ]
  },
  {
   "cell_type": "code",
   "execution_count": 21,
   "metadata": {
    "collapsed": false
   },
   "outputs": [],
   "source": [
    "with open('presents.txt','r') as f:\n",
    "    presents = np.loadtxt(f, dtype = int)"
   ]
  },
  {
   "cell_type": "code",
   "execution_count": 22,
   "metadata": {
    "collapsed": false
   },
   "outputs": [],
   "source": [
    "groupWeight = np.sum(presents)/3"
   ]
  },
  {
   "cell_type": "code",
   "execution_count": 23,
   "metadata": {
    "collapsed": false
   },
   "outputs": [
    {
     "name": "stdout",
     "output_type": "stream",
     "text": [
      "Trying out 1 presents.\n",
      "Trying out 2 presents.\n",
      "Trying out 3 presents.\n",
      "Trying out 4 presents.\n",
      "Trying out 5 presents.\n",
      "Trying out 6 presents.\n",
      "Sparing every container we can, we have to use 6 of them.\n",
      "The minimum quantum entanglement is 11266889531.\n"
     ]
    }
   ],
   "source": [
    "# PART 1\n",
    "# Recycling some code from day 17\n",
    "\n",
    "qeMin = np.inf\n",
    "\n",
    "for length in range(1,len(presents)):\n",
    "    c = False\n",
    "    print 'Trying out %d presents.' % (length)\n",
    "    for comb in combinations(presents,length):\n",
    "        if np.sum(comb)==groupWeight:\n",
    "            c = True\n",
    "            # make sure it is possible to divide the rest of the presents equally.\n",
    "            # Currently, we assume that the presents for the side storage will figure itself out somehow.\n",
    "            # get the quantum entaglement\n",
    "            if np.prod(comb) < qeMin: qeMin = np.prod(comb)\n",
    "    if c: break\n",
    "\n",
    "print 'Santa will have to carry %d presents in the passenger compartment.' % (length)\n",
    "print 'The minimum quantum entanglement is %d.' % (qeMin)"
   ]
  },
  {
   "cell_type": "code",
   "execution_count": 24,
   "metadata": {
    "collapsed": false
   },
   "outputs": [
    {
     "name": "stdout",
     "output_type": "stream",
     "text": [
      "Trying out 1 presents.\n",
      "Trying out 2 presents.\n",
      "Trying out 3 presents.\n",
      "Trying out 4 presents.\n",
      "Trying out 5 presents.\n",
      "Santa will have to carry 5 presents in the passenger compartment.\n",
      "The minimum quantum entanglement is 77387711.\n"
     ]
    }
   ],
   "source": [
    "# PART 2\n",
    "\n",
    "groupWeight = np.sum(presents)/4\n",
    "\n",
    "qeMin = np.inf\n",
    "\n",
    "for length in range(1,len(presents)):\n",
    "    c = False\n",
    "    print 'Trying out %d presents.' % (length)\n",
    "    for comb in combinations(presents,length):\n",
    "        if np.sum(comb)==groupWeight:\n",
    "            c = True\n",
    "            # make sure it is possible to divide the rest of the presents equally.\n",
    "            # Currently, we assume that the presents for the side storage will figure itself out somehow.\n",
    "            # get the quantum entaglement\n",
    "            if np.prod(comb) < qeMin: qeMin = np.prod(comb)\n",
    "    if c: break\n",
    "\n",
    "print 'Santa will have to carry %d presents in the passenger compartment.' % (length)\n",
    "print 'The minimum quantum entanglement is %d.' % (qeMin)"
   ]
  },
  {
   "cell_type": "code",
   "execution_count": null,
   "metadata": {
    "collapsed": true
   },
   "outputs": [],
   "source": []
  }
 ],
 "metadata": {
  "kernelspec": {
   "display_name": "Python 2",
   "language": "python",
   "name": "python2"
  },
  "language_info": {
   "codemirror_mode": {
    "name": "ipython",
    "version": 2
   },
   "file_extension": ".py",
   "mimetype": "text/x-python",
   "name": "python",
   "nbconvert_exporter": "python",
   "pygments_lexer": "ipython2",
   "version": "2.7.10"
  }
 },
 "nbformat": 4,
 "nbformat_minor": 0
}
