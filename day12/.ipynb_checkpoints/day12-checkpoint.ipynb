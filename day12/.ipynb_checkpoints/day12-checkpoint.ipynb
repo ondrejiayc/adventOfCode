{
 "cells": [
  {
   "cell_type": "code",
   "execution_count": null,
   "metadata": {
    "collapsed": true
   },
   "outputs": [],
   "source": [
    "import re"
   ]
  },
  {
   "cell_type": "code",
   "execution_count": null,
   "metadata": {
    "collapsed": false
   },
   "outputs": [],
   "source": [
    "with open('json.txt','r') as f:\n",
    "    data = f.read()\n",
    "\n",
    "nums = [int(i) for i in re.findall(r'-?\\d+',data)]\n",
    "\n",
    "print 'The sum of all the numbers in the document is %d.' % (sum(nums))"
   ]
  },
  {
   "cell_type": "code",
   "execution_count": null,
   "metadata": {
    "collapsed": false
   },
   "outputs": [],
   "source": [
    "import simplejson as json\n",
    "\n",
    "def containsRed(dct):\n",
    "    '''\n",
    "    If 'red' appears as one of the dictionary values, replace the whole dictionary with a dummy one\n",
    "    '''\n",
    "    if 'red' in dct.values():\n",
    "        return {'a': 'a'}\n",
    "    return dct\n",
    "\n",
    "# rewrite the json as a python dictionary, replacing all the wrong dictionaries with dummies,\n",
    "# and produce a string (i.e., save whatever \"print dictionary\" would give)\n",
    "with open('json.txt','r') as f:\n",
    "    data = str(json.load(f,object_hook = containsRed))\n",
    "\n",
    "nums = [int(i) for i in re.findall(r'-?\\d+',data)]\n",
    "\n",
    "print 'The sum of all the numbers with no red property in the document is %d.' % (sum(nums))"
   ]
  },
  {
   "cell_type": "code",
   "execution_count": null,
   "metadata": {
    "collapsed": true
   },
   "outputs": [],
   "source": []
  }
 ],
 "metadata": {
  "kernelspec": {
   "display_name": "Python 2",
   "language": "python",
   "name": "python2"
  },
  "language_info": {
   "codemirror_mode": {
    "name": "ipython",
    "version": 2
   },
   "file_extension": ".py",
   "mimetype": "text/x-python",
   "name": "python",
   "nbconvert_exporter": "python",
   "pygments_lexer": "ipython2",
   "version": "2.7.10"
  }
 },
 "nbformat": 4,
 "nbformat_minor": 0
}
