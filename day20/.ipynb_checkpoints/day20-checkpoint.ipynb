{
 "cells": [
  {
   "cell_type": "code",
   "execution_count": null,
   "metadata": {
    "collapsed": true
   },
   "outputs": [],
   "source": [
    "import numpy as np"
   ]
  },
  {
   "cell_type": "code",
   "execution_count": null,
   "metadata": {
    "collapsed": false
   },
   "outputs": [],
   "source": [
    "presents = 36000000\n",
    "\n",
    "# PART 1\n",
    "# million houses ceiling achieved by trial and error, think about some more clever reasoning\n",
    "house = np.zeros(1000001)\n",
    "\n",
    "for elf in np.arange(1,1000001):\n",
    "    house[elf::elf] += 10*elf\n",
    "    if house[elf]>presents: break\n",
    "\n",
    "print 'The first house to get more than %d presents is %d.' % (presents,elf)"
   ]
  },
  {
   "cell_type": "code",
   "execution_count": null,
   "metadata": {
    "collapsed": false
   },
   "outputs": [],
   "source": [
    "# PART 2\n",
    "\n",
    "house = np.zeros(1000001)\n",
    "\n",
    "for elf in np.arange(1,1000001):\n",
    "    house[elf:50*elf+1:elf] += 11*elf\n",
    "    if house[elf]>presents: break\n",
    "\n",
    "print 'The first house to get more than %d presents under the new rules is %d.' % (presents,elf)"
   ]
  },
  {
   "cell_type": "code",
   "execution_count": null,
   "metadata": {
    "collapsed": true
   },
   "outputs": [],
   "source": []
  }
 ],
 "metadata": {
  "kernelspec": {
   "display_name": "Python 2",
   "language": "python",
   "name": "python2"
  },
  "language_info": {
   "codemirror_mode": {
    "name": "ipython",
    "version": 2
   },
   "file_extension": ".py",
   "mimetype": "text/x-python",
   "name": "python",
   "nbconvert_exporter": "python",
   "pygments_lexer": "ipython2",
   "version": "2.7.10"
  }
 },
 "nbformat": 4,
 "nbformat_minor": 0
}
