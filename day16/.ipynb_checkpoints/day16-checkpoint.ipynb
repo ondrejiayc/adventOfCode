{
 "cells": [
  {
   "cell_type": "code",
   "execution_count": null,
   "metadata": {
    "collapsed": true
   },
   "outputs": [],
   "source": [
    "ticker = {'children': 3,\n",
    "        'cats': 7,\n",
    "        'samoyeds': 2,\n",
    "        'pomeranians': 3,\n",
    "        'akitas': 0,\n",
    "        'vizslas': 0,\n",
    "        'goldfish': 5,\n",
    "        'trees': 3,\n",
    "        'cars': 2,\n",
    "        'perfumes': 1\n",
    "}"
   ]
  },
  {
   "cell_type": "code",
   "execution_count": null,
   "metadata": {
    "collapsed": false
   },
   "outputs": [],
   "source": [
    "with open('aunt.txt','r') as f:\n",
    "    for line in f:\n",
    "        correctAunt = True\n",
    "        line = line.strip().split()\n",
    "        for i in range(2,len(line),2):\n",
    "            if ticker[line[i].strip(':')] == int(line[i+1].strip(',')):\n",
    "                continue\n",
    "            else:\n",
    "                correctAunt = False\n",
    "                break\n",
    "        if correctAunt: \n",
    "            auntIndex = line[1].strip(':')\n",
    "            break\n",
    "        \n",
    "print 'The correct aunt Sure is number %s.' % (auntIndex)"
   ]
  },
  {
   "cell_type": "code",
   "execution_count": null,
   "metadata": {
    "collapsed": false
   },
   "outputs": [],
   "source": [
    "with open('aunt.txt','r') as f:\n",
    "    for line in f:\n",
    "        correctAunt = True\n",
    "        line = line.strip().split()\n",
    "        for i in range(2,len(line),2):\n",
    "            if line[i].strip(':') == 'cats' or line[i].strip(':') == 'trees':\n",
    "                if ticker[line[i].strip(':')] < int(line[i+1].strip(',')):\n",
    "                    continue\n",
    "                else:\n",
    "                    correctAunt = False\n",
    "                    break\n",
    "            elif line[i].strip(':') == 'pomeranians' or line[i].strip(':') == 'goldfish':\n",
    "                if ticker[line[i].strip(':')] > int(line[i+1].strip(',')):\n",
    "                    continue\n",
    "                else:\n",
    "                    correctAunt = False\n",
    "                    break\n",
    "            else:\n",
    "                if ticker[line[i].strip(':')] == int(line[i+1].strip(',')):\n",
    "                    continue\n",
    "                else:\n",
    "                    correctAunt = False\n",
    "                    break\n",
    "        if correctAunt: \n",
    "            auntIndex = line[1].strip(':')\n",
    "            break\n",
    "        \n",
    "print 'The correct aunt Sure in the second case is number %s.' % (auntIndex)"
   ]
  },
  {
   "cell_type": "code",
   "execution_count": null,
   "metadata": {
    "collapsed": true
   },
   "outputs": [],
   "source": []
  }
 ],
 "metadata": {
  "kernelspec": {
   "display_name": "Python 2",
   "language": "python",
   "name": "python2"
  },
  "language_info": {
   "codemirror_mode": {
    "name": "ipython",
    "version": 2
   },
   "file_extension": ".py",
   "mimetype": "text/x-python",
   "name": "python",
   "nbconvert_exporter": "python",
   "pygments_lexer": "ipython2",
   "version": "2.7.10"
  }
 },
 "nbformat": 4,
 "nbformat_minor": 0
}
