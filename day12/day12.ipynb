{
 "cells": [
  {
   "cell_type": "code",
   "execution_count": 8,
   "metadata": {
    "collapsed": true
   },
   "outputs": [],
   "source": [
    "import re\n",
    "import numpy as np"
   ]
  },
  {
   "cell_type": "code",
   "execution_count": 9,
   "metadata": {
    "collapsed": false
   },
   "outputs": [
    {
     "name": "stdout",
     "output_type": "stream",
     "text": [
      "The sum of all the numbers in the document is 119433.\n"
     ]
    }
   ],
   "source": [
    "with open('json.txt','r') as f:\n",
    "    data = f.read()\n",
    "\n",
    "nums = [int(i) for i in re.findall(r'-?\\d+',data)]\n",
    "\n",
    "print 'The sum of all the numbers in the document is %d.' % (sum(nums))"
   ]
  },
  {
   "cell_type": "code",
   "execution_count": 11,
   "metadata": {
    "collapsed": false
   },
   "outputs": [
    {
     "name": "stdout",
     "output_type": "stream",
     "text": [
      "The sum of all the numbers with no red property in the document is 151.\n"
     ]
    }
   ],
   "source": [
    "noRed = re.sub(r'\\{[^\\{]*red.*\\}','a',data)\n",
    "\n",
    "nums = [int(i) for i in re.findall(r'-?\\d+',noRed)]\n",
    "\n",
    "print 'The sum of all the numbers with no red property in the document is %d.' % (sum(nums))"
   ]
  },
  {
   "cell_type": "code",
   "execution_count": null,
   "metadata": {
    "collapsed": true
   },
   "outputs": [],
   "source": []
  }
 ],
 "metadata": {
  "kernelspec": {
   "display_name": "Python 2",
   "language": "python",
   "name": "python2"
  },
  "language_info": {
   "codemirror_mode": {
    "name": "ipython",
    "version": 2
   },
   "file_extension": ".py",
   "mimetype": "text/x-python",
   "name": "python",
   "nbconvert_exporter": "python",
   "pygments_lexer": "ipython2",
   "version": "2.7.10"
  }
 },
 "nbformat": 4,
 "nbformat_minor": 0
}
