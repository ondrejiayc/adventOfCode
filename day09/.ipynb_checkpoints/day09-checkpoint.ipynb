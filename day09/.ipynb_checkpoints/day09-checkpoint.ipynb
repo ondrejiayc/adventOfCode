{
 "cells": [
  {
   "cell_type": "code",
   "execution_count": null,
   "metadata": {
    "collapsed": false
   },
   "outputs": [],
   "source": [
    "from itertools import *\n",
    "import numpy as np"
   ]
  },
  {
   "cell_type": "code",
   "execution_count": null,
   "metadata": {
    "collapsed": false
   },
   "outputs": [],
   "source": [
    "cities = {}\n",
    "\n",
    "with open('distances.txt','r') as f:\n",
    "    record = f.readlines()\n",
    "\n",
    "i = 0\n",
    "\n",
    "for line in record:\n",
    "    if line.split()[0] not in cities: \n",
    "        cities[line.split()[0]] = i\n",
    "        i += 1\n",
    "    if line.split()[2] not in cities: \n",
    "        cities[line.split()[2]] = i\n",
    "        i += 1\n",
    "\n",
    "\n",
    "dists = np.zeros((len(cities),len(cities)),dtype = int)\n",
    "\n",
    "for line in record:\n",
    "    spl = line.split()\n",
    "    dists[cities[spl[0]],cities[spl[2]]] = int(spl[4])\n",
    "\n",
    "dists = dists + dists.T"
   ]
  },
  {
   "cell_type": "code",
   "execution_count": null,
   "metadata": {
    "collapsed": false
   },
   "outputs": [],
   "source": [
    "# A nonelegant brute force solution, but we can afford it since there are only 7 cities.\n",
    "\n",
    "minTrip = np.inf\n",
    "\n",
    "for trip in permutations(range(len(cities))):\n",
    "    curTrip = 0\n",
    "    for i in range(len(trip)-1):\n",
    "        curTrip += dists[trip[i],trip[i+1]]\n",
    "    if curTrip < minTrip: \n",
    "        minTrip = curTrip\n",
    "        tripMap = trip\n",
    "\n",
    "print \"The shortest trip has a length of %s.\" % (minTrip)\n",
    "print tripMap"
   ]
  },
  {
   "cell_type": "code",
   "execution_count": null,
   "metadata": {
    "collapsed": true
   },
   "outputs": [],
   "source": []
  }
 ],
 "metadata": {
  "kernelspec": {
   "display_name": "Python 2",
   "language": "python",
   "name": "python2"
  },
  "language_info": {
   "codemirror_mode": {
    "name": "ipython",
    "version": 2
   },
   "file_extension": ".py",
   "mimetype": "text/x-python",
   "name": "python",
   "nbconvert_exporter": "python",
   "pygments_lexer": "ipython2",
   "version": "2.7.10"
  }
 },
 "nbformat": 4,
 "nbformat_minor": 0
}
