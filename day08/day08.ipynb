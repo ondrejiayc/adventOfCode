{
 "cells": [
  {
   "cell_type": "code",
   "execution_count": null,
   "metadata": {
    "collapsed": true
   },
   "outputs": [],
   "source": [
    "import re"
   ]
  },
  {
   "cell_type": "code",
   "execution_count": null,
   "metadata": {
    "collapsed": false
   },
   "outputs": [],
   "source": [
    "codeLen = 0\n",
    "memLen = 0\n",
    "\n",
    "with open('strings.txt','r') as f:\n",
    "    for line in f:\n",
    "        line = line.strip()\n",
    "        codeLen += len(line)\n",
    "        # How many \\\\-s and \\\"-s there are\n",
    "        line = re.sub(r'\\\\[\"\\\\]','A',line[1:-1])\n",
    "        line = re.sub(r'\\\\x[a-f0-9]{2}','B',line)\n",
    "        memLen += len(line)\n",
    "        \n",
    "print \"The difference in question is %d.\" % (codeLen-memLen)"
   ]
  },
  {
   "cell_type": "code",
   "execution_count": null,
   "metadata": {
    "collapsed": true
   },
   "outputs": [],
   "source": []
  }
 ],
 "metadata": {
  "kernelspec": {
   "display_name": "Python 2",
   "language": "python",
   "name": "python2"
  },
  "language_info": {
   "codemirror_mode": {
    "name": "ipython",
    "version": 2
   },
   "file_extension": ".py",
   "mimetype": "text/x-python",
   "name": "python",
   "nbconvert_exporter": "python",
   "pygments_lexer": "ipython2",
   "version": "2.7.10"
  }
 },
 "nbformat": 4,
 "nbformat_minor": 0
}
