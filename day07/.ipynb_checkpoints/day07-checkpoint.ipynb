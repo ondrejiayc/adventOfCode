{
 "cells": [
  {
   "cell_type": "code",
   "execution_count": null,
   "metadata": {
    "collapsed": true
   },
   "outputs": [],
   "source": [
    "import re"
   ]
  },
  {
   "cell_type": "code",
   "execution_count": null,
   "metadata": {
    "collapsed": false
   },
   "outputs": [],
   "source": [
    "kit = {}\n",
    "\n",
    "operations = {'AND': '&', 'LSHIFT': '<<', 'RSHIFT': '>>', 'OR': '|', 'NOT': '~' }\n",
    "\n",
    "with open('instructions.txt','r') as f:\n",
    "    for line in f:\n",
    "        procLine = [i.strip() for i in line.split('->')]\n",
    "        if re.search(r'^[0-9a-z]+$',procLine[0]):\n",
    "            kit[procLine[1]] = procLine[0]\n",
    "            continue\n",
    "        for op in operations:\n",
    "            if re.search(op,procLine[0]):\n",
    "                kit[procLine[1]] = re.sub(op,operations[op],procLine[0])\n"
   ]
  },
  {
   "cell_type": "code",
   "execution_count": null,
   "metadata": {
    "collapsed": true
   },
   "outputs": [],
   "source": [
    "# AS OF NOW THIS IN AN UNUSABLE FUNCTION\n",
    "\n",
    "def runKit(kit,wire):\n",
    "    '''\n",
    "    For an input wire of kit, runs the whole kit and returns the numerical value on that particular wire.\n",
    "    \n",
    "    INPUTS:\n",
    "    - name of the kit dictionary\n",
    "    - string wire label\n",
    "    \n",
    "    RETURNS\n",
    "    - integer value on the wire\n",
    "    '''\n",
    "    \n",
    "    if re.search(r'^[0-9]+$',kit[wire]):\n",
    "        return kit[wire]\n",
    "    else:\n",
    "        evalString = kit[wire]\n",
    "        for i in re.findall(r'[a-z]+',evalString):\n",
    "            evalString = re.sub(i,runKit(kit,i),evalString)\n",
    "        return eval(evalString)"
   ]
  },
  {
   "cell_type": "code",
   "execution_count": null,
   "metadata": {
    "collapsed": false
   },
   "outputs": [],
   "source": [
    "print runKit(kit,'a')"
   ]
  },
  {
   "cell_type": "code",
   "execution_count": null,
   "metadata": {
    "collapsed": true
   },
   "outputs": [],
   "source": []
  }
 ],
 "metadata": {
  "kernelspec": {
   "display_name": "Python 2",
   "language": "python",
   "name": "python2"
  },
  "language_info": {
   "codemirror_mode": {
    "name": "ipython",
    "version": 2
   },
   "file_extension": ".py",
   "mimetype": "text/x-python",
   "name": "python",
   "nbconvert_exporter": "python",
   "pygments_lexer": "ipython2",
   "version": "2.7.10"
  }
 },
 "nbformat": 4,
 "nbformat_minor": 0
}
