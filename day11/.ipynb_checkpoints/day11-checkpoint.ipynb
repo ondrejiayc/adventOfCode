{
 "cells": [
  {
   "cell_type": "code",
   "execution_count": 73,
   "metadata": {
    "collapsed": false
   },
   "outputs": [],
   "source": [
    "class Password:\n",
    "    '''\n",
    "    The class takes in the 8 digit password of Santa and takes care of incrementing it and checking the rules.\n",
    "    '''\n",
    "        \n",
    "    def __init__(self,password):\n",
    "        self.passOrig = password\n",
    "        self.passStr = password\n",
    "        self.passNum = self.strToNum(self.passStr)        \n",
    "    \n",
    "    def strToNum(self,string):\n",
    "        '''\n",
    "        Calculates the numerical value of the string in base 26 (letters in the English alphabet);\n",
    "        a = 0, b = 1,...\n",
    "        '''\n",
    "        return sum([26**(len(string)-i-1)*(ord(string[i])-ord('a')) for i in range(len(string))])    \n",
    "    \n",
    "    def numToStr(self,num):\n",
    "        string = []\n",
    "        while True:\n",
    "            string = [chr((num % 26) + ord('a'))] + string\n",
    "            if num/26 == 0: break\n",
    "            num /= 26\n",
    "        return ''.join(string)\n",
    "    \n",
    "    def increment(self):\n",
    "        self.passNum += 1\n",
    "        print self.passNum\n",
    "        self.passStr = self.numToStr(self.passNum)"
   ]
  },
  {
   "cell_type": "code",
   "execution_count": 74,
   "metadata": {
    "collapsed": false
   },
   "outputs": [
    {
     "name": "stdout",
     "output_type": "stream",
     "text": [
      "z\n",
      "25\n",
      "Incrementing...\n",
      "26\n",
      "26\n",
      "ba\n"
     ]
    }
   ],
   "source": [
    "#origPass = 'hepxcrrq'\n",
    "origPass = 'z'\n",
    "\n",
    "bla = Password(origPass)\n",
    "\n",
    "print bla.passStr\n",
    "print bla.passNum\n",
    "\n",
    "print 'Incrementing...'\n",
    "bla.increment()\n",
    "\n",
    "print bla.passNum\n",
    "print bla.passStr"
   ]
  },
  {
   "cell_type": "code",
   "execution_count": 40,
   "metadata": {
    "collapsed": false
   },
   "outputs": [
    {
     "data": {
      "text/plain": [
       "'epxcrrqa'"
      ]
     },
     "execution_count": 40,
     "metadata": {},
     "output_type": "execute_result"
    }
   ],
   "source": [
    "bla.numToStr(1498824925676)"
   ]
  },
  {
   "cell_type": "code",
   "execution_count": 68,
   "metadata": {
    "collapsed": false
   },
   "outputs": [
    {
     "data": {
      "text/plain": [
       "1"
      ]
     },
     "execution_count": 68,
     "metadata": {},
     "output_type": "execute_result"
    }
   ],
   "source": [
    "26/26"
   ]
  },
  {
   "cell_type": "code",
   "execution_count": null,
   "metadata": {
    "collapsed": true
   },
   "outputs": [],
   "source": []
  }
 ],
 "metadata": {
  "kernelspec": {
   "display_name": "Python 2",
   "language": "python",
   "name": "python2"
  },
  "language_info": {
   "codemirror_mode": {
    "name": "ipython",
    "version": 2
   },
   "file_extension": ".py",
   "mimetype": "text/x-python",
   "name": "python",
   "nbconvert_exporter": "python",
   "pygments_lexer": "ipython2",
   "version": "2.7.10"
  }
 },
 "nbformat": 4,
 "nbformat_minor": 0
}
