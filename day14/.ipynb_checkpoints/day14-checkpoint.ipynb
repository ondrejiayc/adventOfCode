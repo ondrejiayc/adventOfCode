{
 "cells": [
  {
   "cell_type": "code",
   "execution_count": null,
   "metadata": {
    "collapsed": false
   },
   "outputs": [],
   "source": [
    "with open('reindeer.txt','r') as f:\n",
    "    reindeers = f.readlines()\n",
    "    \n",
    "distMax = 0\n",
    "\n",
    "racetime = 2503\n",
    "\n",
    "for line in reindeers:\n",
    "    reindeer = line.split()[0]\n",
    "    speed = int(line.split()[3])\n",
    "    fly = int(line.split()[6])\n",
    "    rest = int(line.split()[13])\n",
    "    \n",
    "    distance = speed*fly*(racetime/(fly+rest)) + speed*min(fly,racetime%(fly+rest))    \n",
    "    distMax = distance if distance>distMax else distMax\n",
    "\n",
    "print 'The winning reindeer flew %d km.' % (distMax)"
   ]
  },
  {
   "cell_type": "code",
   "execution_count": null,
   "metadata": {
    "collapsed": true
   },
   "outputs": [],
   "source": [
    "import numpy as np"
   ]
  },
  {
   "cell_type": "code",
   "execution_count": null,
   "metadata": {
    "collapsed": false
   },
   "outputs": [],
   "source": [
    "racetime = 2503\n",
    "\n",
    "speeds = np.array([])\n",
    "flys = np.array([])\n",
    "rests = np.array([])\n",
    "distances = np.zeros(9)\n",
    "points = np.zeros(9)\n",
    "\n",
    "with open('reindeer.txt','r') as f:\n",
    "    for line in f:\n",
    "        speeds = np.append(speeds,int(line.split()[3]))\n",
    "        flys = np.append(flys,int(line.split()[6]))\n",
    "        rests = np.append(rests,int(line.split()[13]))\n",
    "\n",
    "for i in range(1,racetime+1):\n",
    "    states = np.ones(9,dtype=int)\n",
    "    states[np.logical_or(i%(flys+rests)>flys,i%(flys+rests) == 0)] = 0\n",
    "    distances += speeds*states\n",
    "    points[distances == np.max(distances)] += 1\n",
    "\n",
    "print 'The winning reindeer accumulated a total of %d points.' % (np.max(points))"
   ]
  },
  {
   "cell_type": "code",
   "execution_count": null,
   "metadata": {
    "collapsed": true
   },
   "outputs": [],
   "source": []
  }
 ],
 "metadata": {
  "kernelspec": {
   "display_name": "Python 2",
   "language": "python",
   "name": "python2"
  },
  "language_info": {
   "codemirror_mode": {
    "name": "ipython",
    "version": 2
   },
   "file_extension": ".py",
   "mimetype": "text/x-python",
   "name": "python",
   "nbconvert_exporter": "python",
   "pygments_lexer": "ipython2",
   "version": "2.7.10"
  }
 },
 "nbformat": 4,
 "nbformat_minor": 0
}
