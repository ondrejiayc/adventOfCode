{
 "cells": [
  {
   "cell_type": "code",
   "execution_count": null,
   "metadata": {
    "collapsed": true
   },
   "outputs": [],
   "source": [
    "import re\n",
    "import numpy as np"
   ]
  },
  {
   "cell_type": "code",
   "execution_count": null,
   "metadata": {
    "collapsed": false
   },
   "outputs": [],
   "source": [
    "kit = {}\n",
    "identified = {}\n",
    "\n",
    "operations = {'AND': '&', 'LSHIFT': '<<', 'RSHIFT': '>>', 'OR': '|', 'NOT': '~' }\n",
    "\n",
    "with open('instructions.txt','r') as f:\n",
    "    for line in f:\n",
    "        procLine = [i.strip() for i in line.split('->')]\n",
    "        if re.search(r'^\\d+$',procLine[0]):\n",
    "            #kit[procLine[1]] = procLine[0]\n",
    "            identified[procLine[1]] = np.uint16(procLine[0])\n",
    "            continue\n",
    "        if re.search(r'^[a-z]+$',procLine[0]):\n",
    "            kit[procLine[1]] = procLine[0]\n",
    "            continue\n",
    "        for op in operations:\n",
    "            if re.search(op,procLine[0]):\n",
    "                kit[procLine[1]] = re.sub(op,operations[op],procLine[0])\n"
   ]
  },
  {
   "cell_type": "code",
   "execution_count": null,
   "metadata": {
    "collapsed": false
   },
   "outputs": [],
   "source": [
    "# AS OF NOW THIS IN AN UNUSABLE FUNCTION\n",
    "\n",
    "def runKit(wire):\n",
    "    '''\n",
    "    For an input wire (of kit), runs the whole kit and returns the numerical value on that particular wire.\n",
    "    \n",
    "    INPUTS:\n",
    "    - string wire label\n",
    "    \n",
    "    RETURNS\n",
    "    - integer value on the wire\n",
    "    '''\n",
    "    \n",
    "    if wire in identified:\n",
    "        #print 'Wire %s returned value %s' % (wire,identified[wire])\n",
    "        return '%d' % (identified[wire])\n",
    "    \n",
    "    evalString = kit[wire]\n",
    "    for i in re.findall(r'[a-z]+',evalString):\n",
    "        evalString = re.sub(i,'(%s)' % (runKit(i)),evalString)\n",
    "        if not re.search(r'[a-z]+',evalString):\n",
    "            #print 'Wire '+i+' a has value of '+str(eval(evalString))\n",
    "            identified[wire] = np.uint16(eval(evalString))\n",
    "            if i in kit: del kit[wire]\n",
    "            return np.uint16(eval(evalString))\n",
    "    \n",
    "    #return eval(evalString)\n",
    "    "
   ]
  },
  {
   "cell_type": "code",
   "execution_count": null,
   "metadata": {
    "collapsed": false
   },
   "outputs": [],
   "source": [
    "origWire = 'a'\n",
    "\n",
    "signalA = runKit('a')\n",
    "\n",
    "print 'The signal on wire a is %d.' % (signalA)"
   ]
  },
  {
   "cell_type": "code",
   "execution_count": null,
   "metadata": {
    "collapsed": false
   },
   "outputs": [],
   "source": [
    "kit = {}\n",
    "identified = {}\n",
    "\n",
    "operations = {'AND': '&', 'LSHIFT': '<<', 'RSHIFT': '>>', 'OR': '|', 'NOT': '~' }\n",
    "\n",
    "with open('instructions.txt','r') as f:\n",
    "    for line in f:\n",
    "        procLine = [i.strip() for i in line.split('->')]\n",
    "        if re.search(r'^\\d+$',procLine[0]):\n",
    "            #kit[procLine[1]] = procLine[0]\n",
    "            identified[procLine[1]] = np.uint16(procLine[0])\n",
    "            continue\n",
    "        if re.search(r'^[a-z]+$',procLine[0]):\n",
    "            kit[procLine[1]] = procLine[0]\n",
    "            continue\n",
    "        for op in operations:\n",
    "            if re.search(op,procLine[0]):\n",
    "                kit[procLine[1]] = re.sub(op,operations[op],procLine[0])\n",
    "\n",
    "identified['b'] = signalA"
   ]
  },
  {
   "cell_type": "code",
   "execution_count": null,
   "metadata": {
    "collapsed": false
   },
   "outputs": [],
   "source": [
    "signalA = runKit('a')\n",
    "\n",
    "print 'The signal on wire for the second round is %d.' % (signalA)"
   ]
  },
  {
   "cell_type": "code",
   "execution_count": null,
   "metadata": {
    "collapsed": true
   },
   "outputs": [],
   "source": []
  }
 ],
 "metadata": {
  "kernelspec": {
   "display_name": "Python 2",
   "language": "python",
   "name": "python2"
  },
  "language_info": {
   "codemirror_mode": {
    "name": "ipython",
    "version": 2
   },
   "file_extension": ".py",
   "mimetype": "text/x-python",
   "name": "python",
   "nbconvert_exporter": "python",
   "pygments_lexer": "ipython2",
   "version": "2.7.10"
  }
 },
 "nbformat": 4,
 "nbformat_minor": 0
}
