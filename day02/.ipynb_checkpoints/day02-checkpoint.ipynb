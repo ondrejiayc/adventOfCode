{
 "cells": [
  {
   "cell_type": "code",
   "execution_count": null,
   "metadata": {
    "collapsed": true
   },
   "outputs": [],
   "source": [
    "import numpy as np"
   ]
  },
  {
   "cell_type": "code",
   "execution_count": null,
   "metadata": {
    "collapsed": false
   },
   "outputs": [],
   "source": [
    "paper = 0\n",
    "\n",
    "with open('dimensions.txt','r') as f:\n",
    "    for line in f:\n",
    "        d = [int(i) for i in line.split('x')]\n",
    "        paper += 2*d[0]*d[1]+2*d[1]*d[2]+2*d[0]*d[2]+min(d[0]*d[1],d[1]*d[2],d[0]*d[2])\n",
    "\n",
    "print 'The elves need to order '+str(paper)+' square feet of paper.'"
   ]
  },
  {
   "cell_type": "code",
   "execution_count": null,
   "metadata": {
    "collapsed": false
   },
   "outputs": [],
   "source": [
    "ribbon = 0 \n",
    "\n",
    "with open('dimensions.txt','r') as f:\n",
    "    for line in f:\n",
    "        l = np.array([int(i) for i in line.split('x')])\n",
    "        ribbon += 2*(np.sum(l)-np.max(l))+np.prod(l)\n",
    "\n",
    "print 'The elves will need a total of '+str(ribbon)+' feet of ribbon.'"
   ]
  },
  {
   "cell_type": "code",
   "execution_count": null,
   "metadata": {
    "collapsed": true
   },
   "outputs": [],
   "source": []
  }
 ],
 "metadata": {
  "kernelspec": {
   "display_name": "Python 2",
   "language": "python",
   "name": "python2"
  },
  "language_info": {
   "codemirror_mode": {
    "name": "ipython",
    "version": 2
   },
   "file_extension": ".py",
   "mimetype": "text/x-python",
   "name": "python",
   "nbconvert_exporter": "python",
   "pygments_lexer": "ipython2",
   "version": "2.7.10"
  }
 },
 "nbformat": 4,
 "nbformat_minor": 0
}
