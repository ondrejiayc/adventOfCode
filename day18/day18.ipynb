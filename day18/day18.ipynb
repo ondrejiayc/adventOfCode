{
 "cells": [
  {
   "cell_type": "code",
   "execution_count": null,
   "metadata": {
    "collapsed": false
   },
   "outputs": [],
   "source": [
    "import numpy as np"
   ]
  },
  {
   "cell_type": "code",
   "execution_count": null,
   "metadata": {
    "collapsed": false
   },
   "outputs": [],
   "source": [
    "a = np.loadtxt('initial.txt',dtype=str,comments='',converters={0: lambda s: list(s)})\n",
    "\n",
    "grid = np.zeros(a.shape)\n",
    "grid[np.where(a=='#')]=1\n",
    "\n",
    "grid = np.hstack((np.zeros((102,1)),np.vstack((np.zeros(100),grid,np.zeros(100))),np.zeros((102,1))))\n"
   ]
  },
  {
   "cell_type": "code",
   "execution_count": null,
   "metadata": {
    "collapsed": false
   },
   "outputs": [],
   "source": [
    "totalGrid = np.zeros((grid.shape[0],grid.shape[1],2))\n",
    "\n",
    "totalGrid[:,:,0] = grid"
   ]
  },
  {
   "cell_type": "code",
   "execution_count": null,
   "metadata": {
    "collapsed": false
   },
   "outputs": [],
   "source": [
    "#PART ONE\n",
    "\n",
    "nSteps = 100\n",
    "\n",
    "switch = 0\n",
    "\n",
    "for i in range(nSteps):\n",
    "    switch = 1 - switch\n",
    "    hlpGrid = totalGrid[:-2,1:-1,1-switch]+totalGrid[2:,1:-1,1-switch]+totalGrid[1:-1,:-2,1-switch]+\\\n",
    "              totalGrid[1:-1,2:,1-switch]+totalGrid[:-2,:-2,1-switch]+totalGrid[2:,2:,1-switch]+\\\n",
    "              totalGrid[:-2,2:,1-switch]+totalGrid[2:,:-2,1-switch]\n",
    "    totalGrid[1:-1,1:-1,switch] = (totalGrid[1:-1,1:-1,1-switch]==1)*np.logical_or(hlpGrid==2,hlpGrid==3) +\\\n",
    "                                  (totalGrid[1:-1,1:-1,1-switch]==0)*(hlpGrid==3)\n",
    "\n",
    "print 'After %d steps there are %d lights on.' % (nSteps,np.sum(totalGrid[:,:,switch]))\n"
   ]
  },
  {
   "cell_type": "code",
   "execution_count": null,
   "metadata": {
    "collapsed": false
   },
   "outputs": [],
   "source": [
    "totalGrid = np.zeros((grid.shape[0],grid.shape[1],2))\n",
    "\n",
    "totalGrid[:,:,0] = grid\n",
    "totalGrid[[1,1,-2,-2],[1,-2,1,-2],0] = 1"
   ]
  },
  {
   "cell_type": "code",
   "execution_count": null,
   "metadata": {
    "collapsed": false
   },
   "outputs": [],
   "source": [
    "#PART TWO\n",
    "\n",
    "nSteps = 100\n",
    "\n",
    "switch = 0\n",
    "\n",
    "for i in range(nSteps):\n",
    "    switch = 1 - switch\n",
    "    hlpGrid = totalGrid[:-2,1:-1,1-switch]+totalGrid[2:,1:-1,1-switch]+totalGrid[1:-1,:-2,1-switch]+\\\n",
    "              totalGrid[1:-1,2:,1-switch]+totalGrid[:-2,:-2,1-switch]+totalGrid[2:,2:,1-switch]+\\\n",
    "              totalGrid[:-2,2:,1-switch]+totalGrid[2:,:-2,1-switch]\n",
    "    totalGrid[1:-1,1:-1,switch] = (totalGrid[1:-1,1:-1,1-switch]==1)*np.logical_or(hlpGrid==2,hlpGrid==3) +\\\n",
    "                                  (totalGrid[1:-1,1:-1,1-switch]==0)*(hlpGrid==3)\n",
    "    totalGrid[[1,1,-2,-2],[1,-2,1,-2],switch] = 1\n",
    "\n",
    "\n",
    "print 'After %d steps, with the corner lights always on, there are %d lights on.' % (nSteps,np.sum(totalGrid[:,:,switch]))\n"
   ]
  },
  {
   "cell_type": "code",
   "execution_count": null,
   "metadata": {
    "collapsed": true
   },
   "outputs": [],
   "source": []
  }
 ],
 "metadata": {
  "kernelspec": {
   "display_name": "Python 2",
   "language": "python",
   "name": "python2"
  },
  "language_info": {
   "codemirror_mode": {
    "name": "ipython",
    "version": 2
   },
   "file_extension": ".py",
   "mimetype": "text/x-python",
   "name": "python",
   "nbconvert_exporter": "python",
   "pygments_lexer": "ipython2",
   "version": "2.7.10"
  }
 },
 "nbformat": 4,
 "nbformat_minor": 0
}
